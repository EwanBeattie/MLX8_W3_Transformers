{
 "cells": [
  {
   "cell_type": "code",
   "execution_count": 4,
   "id": "ed565d13",
   "metadata": {},
   "outputs": [],
   "source": [
    "import data\n",
    "from models import Transformer\n",
    "from a_redundant.trainer import Trainer\n",
    "import matplotlib.pyplot as plt"
   ]
  },
  {
   "cell_type": "code",
   "execution_count": 5,
   "id": "40e198cd",
   "metadata": {},
   "outputs": [
    {
     "name": "stdout",
     "output_type": "stream",
     "text": [
      "Data shape: torch.Size([64, 1, 28, 28]), Labels shape: torch.Size([64])\n"
     ]
    }
   ],
   "source": [
    "train_loader, test_loader = data.get_mnist_data(batch_size=64)\n",
    "\n",
    "batched_images, batched_labels = next(iter(train_loader))\n",
    "print(f\"Data shape: {batched_images.shape}, Labels shape: {batched_labels.shape}\")    "
   ]
  },
  {
   "cell_type": "code",
   "execution_count": 22,
   "id": "dafe3fa5",
   "metadata": {},
   "outputs": [
    {
     "data": {
      "image/png": "[encoded data removed]",
      "text/plain": [
       "<Figure size 640x480 with 1 Axes>"
      ]
     },
     "metadata": {},
     "output_type": "display_data"
    }
   ],
   "source": [
    "n = 5\n",
    "plt.imshow(batched_images[n].squeeze().numpy(), cmap='gray')\n",
    "plt.title(f\"Label: {batched_labels[n].item()}\")\n",
    "plt.axis('off')\n",
    "plt.show()\n"
   ]
  },
  {
   "cell_type": "code",
   "execution_count": 7,
   "id": "053353fe",
   "metadata": {},
   "outputs": [
    {
     "data": {
      "text/plain": [
       "torch.Size([1, 4, 4, 7, 7])"
      ]
     },
     "execution_count": 7,
     "metadata": {},
     "output_type": "execute_result"
    }
   ],
   "source": [
    "number_of_patches = 4\n",
    "patch_size = batched_images.shape[2] // number_of_patches\n",
    "if batched_images.shape[2] % number_of_patches != 0:\n",
    "    raise ValueError(\"Image size must be divisible by the number of patches.\")\n",
    "\n",
    "patches = batched_images[0].unfold(1, patch_size, patch_size).unfold(2, patch_size, patch_size)\n",
    "patches.size()"
   ]
  },
  {
   "cell_type": "code",
   "execution_count": 8,
   "id": "88c6326d",
   "metadata": {},
   "outputs": [
    {
     "data": {
      "image/png": "[encoded data removed]",
      "text/plain": [
       "<Figure size 500x500 with 16 Axes>"
      ]
     },
     "metadata": {},
     "output_type": "display_data"
    }
   ],
   "source": [
    "fig, axes = plt.subplots(number_of_patches, number_of_patches, figsize=(5, 5))\n",
    "for i in range(number_of_patches):\n",
    "    for j in range(number_of_patches):\n",
    "        axes[i, j].imshow(patches[0, i, j].numpy(), cmap='gray')\n",
    "        axes[i, j].axis('off')\n",
    "plt.tight_layout()\n",
    "plt.show()"
   ]
  },
  {
   "cell_type": "code",
   "execution_count": 9,
   "id": "0cd76843",
   "metadata": {},
   "outputs": [
    {
     "name": "stdout",
     "output_type": "stream",
     "text": [
      "Batch 1 - Image shape: torch.Size([64, 1, 28, 28]), Target shape: torch.Size([64])\n"
     ]
    },
    {
     "data": {
      "text/plain": [
       "938"
      ]
     },
     "execution_count": 9,
     "metadata": {},
     "output_type": "execute_result"
    }
   ],
   "source": [
    "for batch_index, (image, target) in enumerate(train_loader):\n",
    "    if batch_index == 1:\n",
    "        print(f\"Batch {batch_index} - Image shape: {image.shape}, Target shape: {target.shape}\")\n",
    "        break\n",
    "\n",
    "len(train_loader)"
   ]
  },
  {
   "cell_type": "code",
   "execution_count": 10,
   "id": "33e35d18",
   "metadata": {},
   "outputs": [
    {
     "data": {
      "text/plain": [
       "torch.Size([64, 16, 49])"
      ]
     },
     "execution_count": 10,
     "metadata": {},
     "output_type": "execute_result"
    }
   ],
   "source": [
    "batch_size = batched_images.size(0)\n",
    "patches = batched_images.unfold(2, patch_size, patch_size).unfold(3, patch_size, patch_size)\n",
    "patch_vectors = patches.contiguous().view(batch_size, number_of_patches **2, patch_size **2)\n",
    "patch_vectors.size()\n",
    "# patches = patches.contiguous().view(batch_size, number_of_patches, patch_size)"
   ]
  }
 ],
 "metadata": {
  "kernelspec": {
   "display_name": ".venv",
   "language": "python",
   "name": "python3"
  },
  "language_info": {
   "codemirror_mode": {
    "name": "ipython",
    "version": 3
   },
   "file_extension": ".py",
   "mimetype": "text/x-python",
   "name": "python",
   "nbconvert_exporter": "python",
   "pygments_lexer": "ipython3",
   "version": "3.10.4"
  }
 },
 "nbformat": 4,
 "nbformat_minor": 5
}
