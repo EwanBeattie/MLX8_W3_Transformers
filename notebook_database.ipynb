{
 "cells": [
  {
   "cell_type": "code",
   "execution_count": 31,
   "id": "43eb2f46",
   "metadata": {},
   "outputs": [],
   "source": [
    "from database import Database"
   ]
  },
  {
   "cell_type": "code",
   "execution_count": 32,
   "id": "77a2a873",
   "metadata": {},
   "outputs": [],
   "source": [
    "database = Database()\n",
    "\n",
    "data = database.retrieve_rows()"
   ]
  },
  {
   "cell_type": "code",
   "execution_count": 33,
   "id": "ab62ff39",
   "metadata": {},
   "outputs": [
    {
     "name": "stdout",
     "output_type": "stream",
     "text": [
      "2\n",
      "2\n",
      "<memory at 0x116446a40>\n"
     ]
    }
   ],
   "source": [
    "for row in data:\n",
    "    print(row.predicted_digit)  \n",
    "    print(row.true_digit)         \n",
    "    print(row.image)"
   ]
  },
  {
   "cell_type": "code",
   "execution_count": 34,
   "id": "2db0a79b",
   "metadata": {},
   "outputs": [
    {
     "data": {
      "image/png": "[encoded data removed]",
      "text/plain": [
       "<Figure size 640x480 with 1 Axes>"
      ]
     },
     "metadata": {},
     "output_type": "display_data"
    }
   ],
   "source": [
    "import numpy as np\n",
    "from PIL import Image\n",
    "import matplotlib.pyplot as plt\n",
    "\n",
    "# Convert the BYTEA data back to a NumPy array\n",
    "image_data = np.frombuffer(data[0].image, dtype=np.uint8).reshape(28, 28)  # Assuming the image is 28x28\n",
    "\n",
    "# Plot the image\n",
    "plt.imshow(image_data, cmap=\"gray\")\n",
    "plt.title(f\"Predicted: {data[0].predicted_digit}, True: {data[0].true_digit}\")\n",
    "plt.axis(\"off\")\n",
    "plt.show()"
   ]
  },
  {
   "cell_type": "code",
   "execution_count": 23,
   "id": "cc8ee166",
   "metadata": {},
   "outputs": [
    {
     "name": "stdout",
     "output_type": "stream",
     "text": [
      "torch.Size([1, 1, 28, 28])\n"
     ]
    }
   ],
   "source": [
    "import torch\n",
    "import numpy as np\n",
    "\n",
    "# Example: Create a NumPy array of shape (28, 28)\n",
    "image_data = np.random.randint(0, 256, (28, 28), dtype=np.uint8)\n",
    "\n",
    "# Convert to a PyTorch tensor and add dimensions\n",
    "tensor = torch.tensor(image_data, dtype=torch.float32).unsqueeze(0).unsqueeze(0)\n",
    "\n",
    "# The resulting tensor will have shape (1, 1, 28, 28)\n",
    "print(tensor.shape) "
   ]
  },
  {
   "cell_type": "code",
   "execution_count": 24,
   "id": "7639411e",
   "metadata": {},
   "outputs": [
    {
     "name": "stdout",
     "output_type": "stream",
     "text": [
      "torch.Size([28, 28])\n"
     ]
    }
   ],
   "source": [
    "squeezed_tensor = tensor.squeeze(0).squeeze(0)\n",
    "print(squeezed_tensor.shape)  # Should print (28, 28)"
   ]
  },
  {
   "cell_type": "code",
   "execution_count": 28,
   "id": "9f3a590f",
   "metadata": {},
   "outputs": [
    {
     "name": "stdout",
     "output_type": "stream",
     "text": [
      "(28, 28)\n",
      "<class 'numpy.ndarray'>\n"
     ]
    }
   ],
   "source": [
    "numpy_data = squeezed_tensor.numpy()\n",
    "print(numpy_data.shape)  # Should print (28, 28)\n",
    "print(type(numpy_data))  # Should print <class 'numpy.ndarray'>"
   ]
  },
  {
   "cell_type": "code",
   "execution_count": 30,
   "id": "6c784461",
   "metadata": {},
   "outputs": [
    {
     "name": "stdout",
     "output_type": "stream",
     "text": [
      "784\n",
      "<class 'bytes'>\n",
      "784\n"
     ]
    }
   ],
   "source": [
    "bytes_data = numpy_data.astype(np.uint8).tobytes()\n",
    "print(len(bytes_data))\n",
    "print(type(bytes_data))  # Should be bytes\n",
    "print(len(bytes_data))  # Length of the byte array"
   ]
  }
 ],
 "metadata": {
  "kernelspec": {
   "display_name": ".venv",
   "language": "python",
   "name": "python3"
  },
  "language_info": {
   "codemirror_mode": {
    "name": "ipython",
    "version": 3
   },
   "file_extension": ".py",
   "mimetype": "text/x-python",
   "name": "python",
   "nbconvert_exporter": "python",
   "pygments_lexer": "ipython3",
   "version": "3.10.4"
  }
 },
 "nbformat": 4,
 "nbformat_minor": 5
}
